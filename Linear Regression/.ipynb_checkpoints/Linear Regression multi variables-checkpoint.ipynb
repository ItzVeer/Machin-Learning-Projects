{
 "cells": [
  {
   "cell_type": "code",
   "execution_count": null,
   "id": "e3f975e7",
   "metadata": {},
   "outputs": [],
   "source": []
  },
  {
   "cell_type": "code",
   "execution_count": 9,
   "id": "79be867d",
   "metadata": {},
   "outputs": [],
   "source": [
    "# Imports\n",
    "\n",
    "import pandas as pd\n",
    "import numpy as np\n",
    "import matplotlib.pyplot as plt\n",
    "from sklearn.model_selection import train_test_split\n",
    "from sklearn.linear_model import LinearRegression\n",
    "from sklearn.metrics import mean_squared_error, r2_score\n",
    "\n",
    "import seaborn as sns\n",
    "from sklearn.preprocessing import LabelEncoder, StandardScaler\n",
    "from sklearn.impute import SimpleImputer"
   ]
  },
  {
   "cell_type": "code",
   "execution_count": null,
   "id": "b15f2d88",
   "metadata": {},
   "outputs": [],
   "source": []
  },
  {
   "cell_type": "code",
   "execution_count": 8,
   "id": "6d8cb8cc",
   "metadata": {},
   "outputs": [
    {
     "data": {
      "text/html": [
       "<div>\n",
       "<style scoped>\n",
       "    .dataframe tbody tr th:only-of-type {\n",
       "        vertical-align: middle;\n",
       "    }\n",
       "\n",
       "    .dataframe tbody tr th {\n",
       "        vertical-align: top;\n",
       "    }\n",
       "\n",
       "    .dataframe thead th {\n",
       "        text-align: right;\n",
       "    }\n",
       "</style>\n",
       "<table border=\"1\" class=\"dataframe\">\n",
       "  <thead>\n",
       "    <tr style=\"text-align: right;\">\n",
       "      <th></th>\n",
       "      <th>Home</th>\n",
       "      <th>Price</th>\n",
       "      <th>SqFt</th>\n",
       "      <th>Bedrooms</th>\n",
       "      <th>Bathrooms</th>\n",
       "      <th>Offers</th>\n",
       "      <th>Brick</th>\n",
       "      <th>Neighborhood</th>\n",
       "    </tr>\n",
       "  </thead>\n",
       "  <tbody>\n",
       "    <tr>\n",
       "      <th>0</th>\n",
       "      <td>1</td>\n",
       "      <td>114300</td>\n",
       "      <td>1790</td>\n",
       "      <td>2</td>\n",
       "      <td>2</td>\n",
       "      <td>2</td>\n",
       "      <td>No</td>\n",
       "      <td>East</td>\n",
       "    </tr>\n",
       "    <tr>\n",
       "      <th>1</th>\n",
       "      <td>2</td>\n",
       "      <td>114200</td>\n",
       "      <td>2030</td>\n",
       "      <td>4</td>\n",
       "      <td>2</td>\n",
       "      <td>3</td>\n",
       "      <td>No</td>\n",
       "      <td>East</td>\n",
       "    </tr>\n",
       "    <tr>\n",
       "      <th>2</th>\n",
       "      <td>3</td>\n",
       "      <td>114800</td>\n",
       "      <td>1740</td>\n",
       "      <td>3</td>\n",
       "      <td>2</td>\n",
       "      <td>1</td>\n",
       "      <td>No</td>\n",
       "      <td>East</td>\n",
       "    </tr>\n",
       "    <tr>\n",
       "      <th>3</th>\n",
       "      <td>4</td>\n",
       "      <td>94700</td>\n",
       "      <td>1980</td>\n",
       "      <td>3</td>\n",
       "      <td>2</td>\n",
       "      <td>3</td>\n",
       "      <td>No</td>\n",
       "      <td>East</td>\n",
       "    </tr>\n",
       "    <tr>\n",
       "      <th>4</th>\n",
       "      <td>5</td>\n",
       "      <td>119800</td>\n",
       "      <td>2130</td>\n",
       "      <td>3</td>\n",
       "      <td>3</td>\n",
       "      <td>3</td>\n",
       "      <td>No</td>\n",
       "      <td>East</td>\n",
       "    </tr>\n",
       "    <tr>\n",
       "      <th>5</th>\n",
       "      <td>6</td>\n",
       "      <td>114600</td>\n",
       "      <td>1780</td>\n",
       "      <td>3</td>\n",
       "      <td>2</td>\n",
       "      <td>2</td>\n",
       "      <td>No</td>\n",
       "      <td>North</td>\n",
       "    </tr>\n",
       "    <tr>\n",
       "      <th>6</th>\n",
       "      <td>7</td>\n",
       "      <td>151600</td>\n",
       "      <td>1830</td>\n",
       "      <td>3</td>\n",
       "      <td>3</td>\n",
       "      <td>3</td>\n",
       "      <td>Yes</td>\n",
       "      <td>West</td>\n",
       "    </tr>\n",
       "    <tr>\n",
       "      <th>7</th>\n",
       "      <td>8</td>\n",
       "      <td>150700</td>\n",
       "      <td>2160</td>\n",
       "      <td>4</td>\n",
       "      <td>2</td>\n",
       "      <td>2</td>\n",
       "      <td>No</td>\n",
       "      <td>West</td>\n",
       "    </tr>\n",
       "    <tr>\n",
       "      <th>8</th>\n",
       "      <td>9</td>\n",
       "      <td>119200</td>\n",
       "      <td>2110</td>\n",
       "      <td>4</td>\n",
       "      <td>2</td>\n",
       "      <td>3</td>\n",
       "      <td>No</td>\n",
       "      <td>East</td>\n",
       "    </tr>\n",
       "    <tr>\n",
       "      <th>9</th>\n",
       "      <td>10</td>\n",
       "      <td>104000</td>\n",
       "      <td>1730</td>\n",
       "      <td>3</td>\n",
       "      <td>3</td>\n",
       "      <td>3</td>\n",
       "      <td>No</td>\n",
       "      <td>East</td>\n",
       "    </tr>\n",
       "  </tbody>\n",
       "</table>\n",
       "</div>"
      ],
      "text/plain": [
       "   Home   Price  SqFt  Bedrooms  Bathrooms  Offers Brick Neighborhood\n",
       "0     1  114300  1790         2          2       2    No         East\n",
       "1     2  114200  2030         4          2       3    No         East\n",
       "2     3  114800  1740         3          2       1    No         East\n",
       "3     4   94700  1980         3          2       3    No         East\n",
       "4     5  119800  2130         3          3       3    No         East\n",
       "5     6  114600  1780         3          2       2    No        North\n",
       "6     7  151600  1830         3          3       3   Yes         West\n",
       "7     8  150700  2160         4          2       2    No         West\n",
       "8     9  119200  2110         4          2       3    No         East\n",
       "9    10  104000  1730         3          3       3    No         East"
      ]
     },
     "execution_count": 8,
     "metadata": {},
     "output_type": "execute_result"
    }
   ],
   "source": [
    "data = pd.read_csv('./housing_dataset.csv')\n",
    "data.head(10)"
   ]
  },
  {
   "cell_type": "code",
   "execution_count": null,
   "id": "0ecc6866",
   "metadata": {},
   "outputs": [],
   "source": [
    "data.info()"
   ]
  },
  {
   "cell_type": "code",
   "execution_count": 7,
   "id": "b774af69",
   "metadata": {},
   "outputs": [
    {
     "data": {
      "text/plain": [
       "Index(['Home', 'Price', 'SqFt', 'Bedrooms', 'Bathrooms', 'Offers', 'Brick',\n",
       "       'Neighborhood'],\n",
       "      dtype='object')"
      ]
     },
     "execution_count": 7,
     "metadata": {},
     "output_type": "execute_result"
    }
   ],
   "source": [
    "data.columns"
   ]
  },
  {
   "cell_type": "code",
   "execution_count": 10,
   "id": "62642b4a",
   "metadata": {
    "scrolled": false
   },
   "outputs": [
    {
     "data": {
      "text/plain": [
       "Home            0\n",
       "Price           0\n",
       "SqFt            0\n",
       "Bedrooms        0\n",
       "Bathrooms       0\n",
       "Offers          0\n",
       "Brick           0\n",
       "Neighborhood    0\n",
       "dtype: int64"
      ]
     },
     "execution_count": 10,
     "metadata": {},
     "output_type": "execute_result"
    }
   ],
   "source": [
    "data.isnull().sum()"
   ]
  },
  {
   "cell_type": "markdown",
   "id": "e8422ec4",
   "metadata": {},
   "source": [
    "**Given the absence of null values, there is no requirement for handling missing data.**"
   ]
  },
  {
   "cell_type": "markdown",
   "id": "43b50359",
   "metadata": {},
   "source": [
    "### Scaling of the data\n",
    "\n",
    "In multiple linear regression, scaling of the data is often recommended, particularly when the features (independent variables) are measured on different scales or have significantly different magnitudes. Scaling ensures that each feature contributes proportionately to the model's fitting process and prevents features with larger scales from dominating the others. It can enhance the performance and stability of the regression model. Common scaling techniques include standardization (mean normalization and variance scaling) or normalization (scaling features to a range, such as [0, 1]). However, scaling may not always be necessary, especially if all features are already on similar scales."
   ]
  },
  {
   "cell_type": "code",
   "execution_count": 16,
   "id": "bd44b651",
   "metadata": {},
   "outputs": [],
   "source": [
    "numerical_cols = ['Home', 'Price', 'SqFt', 'Bedrooms', 'Bathrooms', 'Offers']\n",
    "categorical_cols = ['Brick', 'Neighborhood']\n",
    "\n",
    "# Scale numerical columns\n",
    "scaler = StandardScaler()\n",
    "data[numerical_cols] = scaler.fit_transform(data[numerical_cols])"
   ]
  },
  {
   "cell_type": "markdown",
   "id": "eea8eb0e",
   "metadata": {},
   "source": [
    "**Standardization:** Here, I used StandardScaler from scikit-learn to standardize the numerical columns. Standardization rescales the features such that they have the properties of a standard normal distribution with a mean of 0 and a standard deviation of 1. This is a common choice for scaling numerical features in multiple linear regression because it maintains the shape of the distribution and handles outliers well."
   ]
  },
  {
   "cell_type": "markdown",
   "id": "01b1661d",
   "metadata": {},
   "source": [
    "### Handling categorical variables\n",
    "\n",
    "In multiple linear regression, categorical variables need to be appropriately encoded to be used in the model. The choice between one-hot encoding and ordinal encoding depends on the nature of the categorical variables and the assumptions you want to make in your model.\n",
    "\n",
    "**One-Hot Encoding:** This method creates binary columns for each category of the categorical variable. Each binary column represents a category, and only one column has a value of 1 (indicating the presence of that category) while the others have a value of 0. One-hot encoding is suitable when:\n",
    "\n",
    "The categorical variable does not have inherent order or hierarchy.\n",
    "Each category is distinct and does not have a natural numerical relationship with other categories.\n",
    "Example: If you have a categorical variable \"Color\" with categories \"Red\", \"Blue\", and \"Green\", one-hot encoding would create three binary columns: \"Color_Red\", \"Color_Blue\", and \"Color_Green\".\n",
    "\n",
    "**Ordinal Encoding:** This method assigns a unique integer to each category, preserving the ordinal relationship if it exists. Ordinal encoding is suitable when:\n",
    "\n",
    "The categorical variable has an inherent order or hierarchy.\n",
    "The categories can be ranked or ordered in a meaningful way.\n",
    "Example: If you have a categorical variable \"Education Level\" with categories \"High School\", \"College\", and \"Graduate\", you could assign integers 0, 1, and 2, respectively, preserving the order.\n",
    "\n",
    "However, it's essential to ensure that the numerical values assigned in ordinal encoding truly reflect the ordinal relationship between categories. If not, one-hot encoding may be preferred to avoid implying an incorrect order."
   ]
  },
  {
   "cell_type": "code",
   "execution_count": 20,
   "id": "be5da06f",
   "metadata": {},
   "outputs": [
    {
     "data": {
      "text/plain": [
       "Brick  Neighborhood\n",
       "No     North           37\n",
       "       East            26\n",
       "       West            23\n",
       "Yes    East            19\n",
       "       West            16\n",
       "       North            7\n",
       "Name: count, dtype: int64"
      ]
     },
     "execution_count": 20,
     "metadata": {},
     "output_type": "execute_result"
    }
   ],
   "source": [
    "data[categorical_cols].value_counts()"
   ]
  },
  {
   "cell_type": "code",
   "execution_count": 24,
   "id": "61edc599",
   "metadata": {},
   "outputs": [
    {
     "data": {
      "text/plain": [
       "Index(['Home', 'Price', 'SqFt', 'Bedrooms', 'Bathrooms', 'Offers', 'Brick_No',\n",
       "       'Brick_Yes', 'Neighborhood_East', 'Neighborhood_North',\n",
       "       'Neighborhood_West'],\n",
       "      dtype='object')"
      ]
     },
     "execution_count": 24,
     "metadata": {},
     "output_type": "execute_result"
    }
   ],
   "source": [
    "# Perform one-hot encoding\n",
    "data_encoded = pd.get_dummies(data, columns=categorical_cols, drop_first=True)\n",
    "\n",
    "data_encoded.columns"
   ]
  },
  {
   "cell_type": "markdown",
   "id": "8b80bce9",
   "metadata": {},
   "source": [
    "**One-Hot Encoding:** One-hot encoding is used to represent categorical variables as binary vectors. This transformation ensures that the categorical variables are properly incorporated into the multiple linear regression model.\n",
    "\n",
    "**Avoiding Multicollinearity:** One-hot encoding with drop_first=True drops one category from each encoded variable to avoid multicollinearity. Multicollinearity occurs when two or more variables are highly correlated, which can adversely affect the regression model's performance.\n",
    "\n",
    "**Preserving Information:** By encoding categorical variables with one-hot encoding, you preserve the information about the categories while representing them in a format suitable for numerical analysis. Each category becomes a binary feature, making it easier for the regression model to incorporate their effects into the predictions."
   ]
  },
  {
   "cell_type": "markdown",
   "id": "13f13eb6",
   "metadata": {},
   "source": [
    "# EDA"
   ]
  },
  {
   "cell_type": "markdown",
   "id": "2a570b06",
   "metadata": {},
   "source": [
    "### Correlation heatmap"
   ]
  },
  {
   "cell_type": "code",
   "execution_count": 23,
   "id": "8f5ad9b9",
   "metadata": {},
   "outputs": [
    {
     "data": {
      "image/png": "[encoded data removed]",
      "text/plain": [
       "<Figure size 1000x800 with 2 Axes>"
      ]
     },
     "metadata": {},
     "output_type": "display_data"
    }
   ],
   "source": [
    "# Correlation heatmap\n",
    "plt.figure(figsize=(10, 8))\n",
    "sns.heatmap(data[numerical_cols].corr(), annot=True, cmap='coolwarm', fmt=\".2f\")\n",
    "plt.title('Correlation Heatmap')\n",
    "plt.show()"
   ]
  }
 ],
 "metadata": {
  "kernelspec": {
   "display_name": "Python 3 (ipykernel)",
   "language": "python",
   "name": "python3"
  },
  "language_info": {
   "codemirror_mode": {
    "name": "ipython",
    "version": 3
   },
   "file_extension": ".py",
   "mimetype": "text/x-python",
   "name": "python",
   "nbconvert_exporter": "python",
   "pygments_lexer": "ipython3",
   "version": "3.10.12"
  },
  "vp": {
   "vp_config_version": "1.0.0",
   "vp_menu_width": 273,
   "vp_note_display": false,
   "vp_note_width": 0,
   "vp_position": {
    "width": 278
   },
   "vp_section_display": true,
   "vp_signature": "VisualPython"
  }
 },
 "nbformat": 4,
 "nbformat_minor": 5
}
