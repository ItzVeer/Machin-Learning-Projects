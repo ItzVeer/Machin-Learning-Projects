{
 "cells": [
  {
   "cell_type": "code",
   "execution_count": null,
   "id": "7f2aa514",
   "metadata": {},
   "outputs": [],
   "source": []
  },
  {
   "cell_type": "code",
   "execution_count": 138,
   "id": "f7cc22aa",
   "metadata": {},
   "outputs": [],
   "source": [
    "# Imports\n",
    "\n",
    "import pandas as pd\n",
    "import numpy as np\n",
    "import matplotlib.pyplot as plt\n",
    "from sklearn.model_selection import train_test_split\n",
    "from sklearn.linear_model import LinearRegression\n",
    "from sklearn.metrics import mean_absolute_error, mean_squared_error, r2_score\n",
    "\n",
    "import seaborn as sns\n",
    "from sklearn.preprocessing import LabelEncoder, StandardScaler\n",
    "from sklearn.impute import SimpleImputer"
   ]
  },
  {
   "cell_type": "code",
   "execution_count": null,
   "id": "0f3068f1",
   "metadata": {},
   "outputs": [],
   "source": []
  },
  {
   "cell_type": "code",
   "execution_count": 123,
   "id": "d1c37577",
   "metadata": {},
   "outputs": [
    {
     "data": {
      "text/html": [
       "<div>\n",
       "<style scoped>\n",
       "    .dataframe tbody tr th:only-of-type {\n",
       "        vertical-align: middle;\n",
       "    }\n",
       "\n",
       "    .dataframe tbody tr th {\n",
       "        vertical-align: top;\n",
       "    }\n",
       "\n",
       "    .dataframe thead th {\n",
       "        text-align: right;\n",
       "    }\n",
       "</style>\n",
       "<table border=\"1\" class=\"dataframe\">\n",
       "  <thead>\n",
       "    <tr style=\"text-align: right;\">\n",
       "      <th></th>\n",
       "      <th>Home</th>\n",
       "      <th>Price</th>\n",
       "      <th>SqFt</th>\n",
       "      <th>Bedrooms</th>\n",
       "      <th>Bathrooms</th>\n",
       "      <th>Offers</th>\n",
       "      <th>Brick</th>\n",
       "      <th>Neighborhood</th>\n",
       "    </tr>\n",
       "  </thead>\n",
       "  <tbody>\n",
       "    <tr>\n",
       "      <th>0</th>\n",
       "      <td>1</td>\n",
       "      <td>114300</td>\n",
       "      <td>1790</td>\n",
       "      <td>2</td>\n",
       "      <td>2</td>\n",
       "      <td>2</td>\n",
       "      <td>No</td>\n",
       "      <td>East</td>\n",
       "    </tr>\n",
       "    <tr>\n",
       "      <th>1</th>\n",
       "      <td>2</td>\n",
       "      <td>114200</td>\n",
       "      <td>2030</td>\n",
       "      <td>4</td>\n",
       "      <td>2</td>\n",
       "      <td>3</td>\n",
       "      <td>No</td>\n",
       "      <td>East</td>\n",
       "    </tr>\n",
       "    <tr>\n",
       "      <th>2</th>\n",
       "      <td>3</td>\n",
       "      <td>114800</td>\n",
       "      <td>1740</td>\n",
       "      <td>3</td>\n",
       "      <td>2</td>\n",
       "      <td>1</td>\n",
       "      <td>No</td>\n",
       "      <td>East</td>\n",
       "    </tr>\n",
       "    <tr>\n",
       "      <th>3</th>\n",
       "      <td>4</td>\n",
       "      <td>94700</td>\n",
       "      <td>1980</td>\n",
       "      <td>3</td>\n",
       "      <td>2</td>\n",
       "      <td>3</td>\n",
       "      <td>No</td>\n",
       "      <td>East</td>\n",
       "    </tr>\n",
       "    <tr>\n",
       "      <th>4</th>\n",
       "      <td>5</td>\n",
       "      <td>119800</td>\n",
       "      <td>2130</td>\n",
       "      <td>3</td>\n",
       "      <td>3</td>\n",
       "      <td>3</td>\n",
       "      <td>No</td>\n",
       "      <td>East</td>\n",
       "    </tr>\n",
       "    <tr>\n",
       "      <th>5</th>\n",
       "      <td>6</td>\n",
       "      <td>114600</td>\n",
       "      <td>1780</td>\n",
       "      <td>3</td>\n",
       "      <td>2</td>\n",
       "      <td>2</td>\n",
       "      <td>No</td>\n",
       "      <td>North</td>\n",
       "    </tr>\n",
       "    <tr>\n",
       "      <th>6</th>\n",
       "      <td>7</td>\n",
       "      <td>151600</td>\n",
       "      <td>1830</td>\n",
       "      <td>3</td>\n",
       "      <td>3</td>\n",
       "      <td>3</td>\n",
       "      <td>Yes</td>\n",
       "      <td>West</td>\n",
       "    </tr>\n",
       "    <tr>\n",
       "      <th>7</th>\n",
       "      <td>8</td>\n",
       "      <td>150700</td>\n",
       "      <td>2160</td>\n",
       "      <td>4</td>\n",
       "      <td>2</td>\n",
       "      <td>2</td>\n",
       "      <td>No</td>\n",
       "      <td>West</td>\n",
       "    </tr>\n",
       "    <tr>\n",
       "      <th>8</th>\n",
       "      <td>9</td>\n",
       "      <td>119200</td>\n",
       "      <td>2110</td>\n",
       "      <td>4</td>\n",
       "      <td>2</td>\n",
       "      <td>3</td>\n",
       "      <td>No</td>\n",
       "      <td>East</td>\n",
       "    </tr>\n",
       "    <tr>\n",
       "      <th>9</th>\n",
       "      <td>10</td>\n",
       "      <td>104000</td>\n",
       "      <td>1730</td>\n",
       "      <td>3</td>\n",
       "      <td>3</td>\n",
       "      <td>3</td>\n",
       "      <td>No</td>\n",
       "      <td>East</td>\n",
       "    </tr>\n",
       "  </tbody>\n",
       "</table>\n",
       "</div>"
      ],
      "text/plain": [
       "   Home   Price  SqFt  Bedrooms  Bathrooms  Offers Brick Neighborhood\n",
       "0     1  114300  1790         2          2       2    No         East\n",
       "1     2  114200  2030         4          2       3    No         East\n",
       "2     3  114800  1740         3          2       1    No         East\n",
       "3     4   94700  1980         3          2       3    No         East\n",
       "4     5  119800  2130         3          3       3    No         East\n",
       "5     6  114600  1780         3          2       2    No        North\n",
       "6     7  151600  1830         3          3       3   Yes         West\n",
       "7     8  150700  2160         4          2       2    No         West\n",
       "8     9  119200  2110         4          2       3    No         East\n",
       "9    10  104000  1730         3          3       3    No         East"
      ]
     },
     "execution_count": 123,
     "metadata": {},
     "output_type": "execute_result"
    }
   ],
   "source": [
    "data = pd.read_csv('./housing_dataset.csv')\n",
    "data.head(10)"
   ]
  },
  {
   "cell_type": "code",
   "execution_count": 124,
   "id": "d4232032",
   "metadata": {},
   "outputs": [
    {
     "name": "stdout",
     "output_type": "stream",
     "text": [
      "<class 'pandas.core.frame.DataFrame'>\n",
      "RangeIndex: 128 entries, 0 to 127\n",
      "Data columns (total 8 columns):\n",
      " #   Column        Non-Null Count  Dtype \n",
      "---  ------        --------------  ----- \n",
      " 0   Home          128 non-null    int64 \n",
      " 1   Price         128 non-null    int64 \n",
      " 2   SqFt          128 non-null    int64 \n",
      " 3   Bedrooms      128 non-null    int64 \n",
      " 4   Bathrooms     128 non-null    int64 \n",
      " 5   Offers        128 non-null    int64 \n",
      " 6   Brick         128 non-null    object\n",
      " 7   Neighborhood  128 non-null    object\n",
      "dtypes: int64(6), object(2)\n",
      "memory usage: 8.1+ KB\n"
     ]
    }
   ],
   "source": [
    "data.info()"
   ]
  },
  {
   "cell_type": "code",
   "execution_count": 125,
   "id": "6c15fd78",
   "metadata": {},
   "outputs": [
    {
     "data": {
      "text/plain": [
       "Index(['Home', 'Price', 'SqFt', 'Bedrooms', 'Bathrooms', 'Offers', 'Brick',\n",
       "       'Neighborhood'],\n",
       "      dtype='object')"
      ]
     },
     "execution_count": 125,
     "metadata": {},
     "output_type": "execute_result"
    }
   ],
   "source": [
    "data.columns"
   ]
  },
  {
   "cell_type": "code",
   "execution_count": 126,
   "id": "f87ba1fe",
   "metadata": {
    "scrolled": false
   },
   "outputs": [
    {
     "data": {
      "text/plain": [
       "Home            0\n",
       "Price           0\n",
       "SqFt            0\n",
       "Bedrooms        0\n",
       "Bathrooms       0\n",
       "Offers          0\n",
       "Brick           0\n",
       "Neighborhood    0\n",
       "dtype: int64"
      ]
     },
     "execution_count": 126,
     "metadata": {},
     "output_type": "execute_result"
    }
   ],
   "source": [
    "data.isnull().sum()"
   ]
  },
  {
   "cell_type": "markdown",
   "id": "88ee745d",
   "metadata": {},
   "source": [
    "**Given the absence of null values, there is no requirement for handling missing data.**"
   ]
  },
  {
   "cell_type": "markdown",
   "id": "4ed0d945",
   "metadata": {},
   "source": [
    "### Scaling of the data\n",
    "\n",
    "In multiple linear regression, scaling of the data is often recommended, particularly when the features (independent variables) are measured on different scales or have significantly different magnitudes. Scaling ensures that each feature contributes proportionately to the model's fitting process and prevents features with larger scales from dominating the others. It can enhance the performance and stability of the regression model. Common scaling techniques include standardization (mean normalization and variance scaling) or normalization (scaling features to a range, such as [0, 1]). However, scaling may not always be necessary, especially if all features are already on similar scales."
   ]
  },
  {
   "cell_type": "code",
   "execution_count": 127,
   "id": "1cb578d8",
   "metadata": {},
   "outputs": [],
   "source": [
    "numerical_cols = ['Home', 'Price', 'SqFt', 'Bedrooms', 'Bathrooms', 'Offers']\n",
    "categorical_cols = ['Brick', 'Neighborhood']\n",
    "\n",
    "# Scale numerical columns\n",
    "scaler = StandardScaler()\n",
    "data[numerical_cols] = scaler.fit_transform(data[numerical_cols])"
   ]
  },
  {
   "cell_type": "markdown",
   "id": "2c0c8ff7",
   "metadata": {},
   "source": [
    "**Standardization:** Here, I used StandardScaler from scikit-learn to standardize the numerical columns. Standardization rescales the features such that they have the properties of a standard normal distribution with a mean of 0 and a standard deviation of 1. This is a common choice for scaling numerical features in multiple linear regression because it maintains the shape of the distribution and handles outliers well."
   ]
  },
  {
   "cell_type": "markdown",
   "id": "674c5f21",
   "metadata": {},
   "source": [
    "### Handling categorical variables\n",
    "\n",
    "In multiple linear regression, categorical variables need to be appropriately encoded to be used in the model. The choice between one-hot encoding and ordinal encoding depends on the nature of the categorical variables and the assumptions you want to make in your model.\n",
    "\n",
    "**One-Hot Encoding:** This method creates binary columns for each category of the categorical variable. Each binary column represents a category, and only one column has a value of 1 (indicating the presence of that category) while the others have a value of 0. One-hot encoding is suitable when:\n",
    "\n",
    "The categorical variable does not have inherent order or hierarchy.\n",
    "Each category is distinct and does not have a natural numerical relationship with other categories.\n",
    "Example: If you have a categorical variable \"Color\" with categories \"Red\", \"Blue\", and \"Green\", one-hot encoding would create three binary columns: \"Color_Red\", \"Color_Blue\", and \"Color_Green\".\n",
    "\n",
    "**Ordinal Encoding:** This method assigns a unique integer to each category, preserving the ordinal relationship if it exists. Ordinal encoding is suitable when:\n",
    "\n",
    "The categorical variable has an inherent order or hierarchy.\n",
    "The categories can be ranked or ordered in a meaningful way.\n",
    "Example: If you have a categorical variable \"Education Level\" with categories \"High School\", \"College\", and \"Graduate\", you could assign integers 0, 1, and 2, respectively, preserving the order.\n",
    "\n",
    "However, it's essential to ensure that the numerical values assigned in ordinal encoding truly reflect the ordinal relationship between categories. If not, one-hot encoding may be preferred to avoid implying an incorrect order."
   ]
  },
  {
   "cell_type": "code",
   "execution_count": 128,
   "id": "7fac105a",
   "metadata": {},
   "outputs": [
    {
     "data": {
      "text/plain": [
       "Brick  Neighborhood\n",
       "No     North           37\n",
       "       East            26\n",
       "       West            23\n",
       "Yes    East            19\n",
       "       West            16\n",
       "       North            7\n",
       "Name: count, dtype: int64"
      ]
     },
     "execution_count": 128,
     "metadata": {},
     "output_type": "execute_result"
    }
   ],
   "source": [
    "data[categorical_cols].value_counts()"
   ]
  },
  {
   "cell_type": "code",
   "execution_count": 129,
   "id": "8ac88749",
   "metadata": {},
   "outputs": [
    {
     "data": {
      "text/plain": [
       "Index(['Home', 'Price', 'SqFt', 'Bedrooms', 'Bathrooms', 'Offers', 'Brick_Yes',\n",
       "       'Neighborhood_North', 'Neighborhood_West'],\n",
       "      dtype='object')"
      ]
     },
     "execution_count": 129,
     "metadata": {},
     "output_type": "execute_result"
    }
   ],
   "source": [
    "# Perform one-hot encoding\n",
    "data = pd.get_dummies(data, columns=categorical_cols, drop_first=True)\n",
    "\n",
    "data.columns"
   ]
  },
  {
   "cell_type": "markdown",
   "id": "e216c6d7",
   "metadata": {},
   "source": [
    "**One-Hot Encoding:** One-hot encoding is used to represent categorical variables as binary vectors. This transformation ensures that the categorical variables are properly incorporated into the multiple linear regression model.\n",
    "\n",
    "**Avoiding Multicollinearity:** One-hot encoding with drop_first=True drops one category from each encoded variable to avoid multicollinearity. Multicollinearity occurs when two or more variables are highly correlated, which can adversely affect the regression model's performance.\n",
    "\n",
    "**Preserving Information:** By encoding categorical variables with one-hot encoding, you preserve the information about the categories while representing them in a format suitable for numerical analysis. Each category becomes a binary feature, making it easier for the regression model to incorporate their effects into the predictions."
   ]
  },
  {
   "cell_type": "markdown",
   "id": "04483c2b",
   "metadata": {},
   "source": [
    "# EDA"
   ]
  },
  {
   "cell_type": "markdown",
   "id": "beb06d78",
   "metadata": {},
   "source": [
    "### Correlation heatmap"
   ]
  },
  {
   "cell_type": "code",
   "execution_count": 130,
   "id": "5b0a7a18",
   "metadata": {},
   "outputs": [
    {
     "data": {
      "image/png": "[encoded data removed]",
      "text/plain": [
       "<Figure size 1000x800 with 2 Axes>"
      ]
     },
     "metadata": {},
     "output_type": "display_data"
    }
   ],
   "source": [
    "# Correlation heatmap\n",
    "plt.figure(figsize=(10, 8))\n",
    "sns.heatmap(data[numerical_cols].corr(), annot=True, cmap='coolwarm', fmt=\".2f\")\n",
    "plt.title('Correlation Heatmap')\n",
    "plt.show()"
   ]
  },
  {
   "cell_type": "code",
   "execution_count": null,
   "id": "f95f75e3",
   "metadata": {},
   "outputs": [],
   "source": []
  },
  {
   "cell_type": "code",
   "execution_count": 131,
   "id": "b29719bf",
   "metadata": {},
   "outputs": [
    {
     "data": {
      "image/png": "[encoded data removed]",
      "text/plain": [
       "<Figure size 800x600 with 1 Axes>"
      ]
     },
     "metadata": {},
     "output_type": "display_data"
    }
   ],
   "source": [
    "# Distribution of Price\n",
    "\n",
    "def sturges_rule(data):\n",
    "    num_bins = int(np.ceil(np.log2(len(data)) + 1))\n",
    "    return num_bins\n",
    "\n",
    "num_bins_sturges = sturges_rule(data['Price'])\n",
    "\n",
    "\n",
    "plt.figure(figsize=(8, 6))\n",
    "\n",
    "plt.hist(data['Price'], bins=num_bins_sturges, color='blue', alpha=0.7)\n",
    "\n",
    "plt.title('Distribution of Price')\n",
    "plt.xlabel('Price')\n",
    "plt.ylabel('Frequency')\n",
    "plt.show()"
   ]
  },
  {
   "cell_type": "code",
   "execution_count": 132,
   "id": "02101056",
   "metadata": {},
   "outputs": [
    {
     "data": {
      "image/png": "[encoded data removed]",
      "text/plain": [
       "<Figure size 800x600 with 1 Axes>"
      ]
     },
     "metadata": {},
     "output_type": "display_data"
    }
   ],
   "source": [
    "# Scatter plot of SqFt vs Price\n",
    "plt.figure(figsize=(8, 6))\n",
    "sns.scatterplot(x='SqFt', y='Price', data=data)\n",
    "plt.title('SqFt vs Price')\n",
    "plt.xlabel('SqFt')\n",
    "plt.ylabel('Price')\n",
    "plt.show()"
   ]
  },
  {
   "cell_type": "markdown",
   "id": "594124ef",
   "metadata": {},
   "source": [
    "## Outlier Detection & Handling"
   ]
  },
  {
   "cell_type": "code",
   "execution_count": 133,
   "id": "a00d5110",
   "metadata": {},
   "outputs": [
    {
     "data": {
      "image/png": "[encoded data removed]",
      "text/plain": [
       "<Figure size 800x600 with 1 Axes>"
      ]
     },
     "metadata": {},
     "output_type": "display_data"
    }
   ],
   "source": [
    "# Box plot for Price\n",
    "plt.figure(figsize=(8, 6))\n",
    "sns.boxplot(x=data['Price'])\n",
    "plt.title('Box plot of Price')\n",
    "plt.xlabel('Price')\n",
    "plt.show()"
   ]
  },
  {
   "cell_type": "code",
   "execution_count": 134,
   "id": "ffe22da8",
   "metadata": {},
   "outputs": [
    {
     "data": {
      "image/png": "[encoded data removed]",
      "text/plain": [
       "<Figure size 800x600 with 1 Axes>"
      ]
     },
     "metadata": {},
     "output_type": "display_data"
    }
   ],
   "source": [
    "# Box plot for SqFt\n",
    "plt.figure(figsize=(8, 6))\n",
    "sns.boxplot(x=data['SqFt'])\n",
    "plt.title('Box plot of SqFt')\n",
    "plt.xlabel('SqFt')\n",
    "plt.show()"
   ]
  },
  {
   "cell_type": "code",
   "execution_count": null,
   "id": "f839d663",
   "metadata": {},
   "outputs": [],
   "source": []
  },
  {
   "cell_type": "code",
   "execution_count": 135,
   "id": "dbd15ddb",
   "metadata": {},
   "outputs": [
    {
     "data": {
      "text/html": [
       "<div>\n",
       "<style scoped>\n",
       "    .dataframe tbody tr th:only-of-type {\n",
       "        vertical-align: middle;\n",
       "    }\n",
       "\n",
       "    .dataframe tbody tr th {\n",
       "        vertical-align: top;\n",
       "    }\n",
       "\n",
       "    .dataframe thead th {\n",
       "        text-align: right;\n",
       "    }\n",
       "</style>\n",
       "<table border=\"1\" class=\"dataframe\">\n",
       "  <thead>\n",
       "    <tr style=\"text-align: right;\">\n",
       "      <th></th>\n",
       "      <th>Home</th>\n",
       "      <th>Price</th>\n",
       "      <th>SqFt</th>\n",
       "      <th>Bedrooms</th>\n",
       "      <th>Bathrooms</th>\n",
       "      <th>Offers</th>\n",
       "      <th>Brick_Yes</th>\n",
       "      <th>Neighborhood_North</th>\n",
       "      <th>Neighborhood_West</th>\n",
       "    </tr>\n",
       "  </thead>\n",
       "  <tbody>\n",
       "    <tr>\n",
       "      <th>0</th>\n",
       "      <td>-1.718572</td>\n",
       "      <td>-0.602585</td>\n",
       "      <td>-1.000916</td>\n",
       "      <td>-1.415327</td>\n",
       "      <td>-0.868939</td>\n",
       "      <td>-0.542769</td>\n",
       "      <td>False</td>\n",
       "      <td>False</td>\n",
       "      <td>False</td>\n",
       "    </tr>\n",
       "    <tr>\n",
       "      <th>1</th>\n",
       "      <td>-1.691507</td>\n",
       "      <td>-0.606321</td>\n",
       "      <td>0.137904</td>\n",
       "      <td>1.350503</td>\n",
       "      <td>-0.868939</td>\n",
       "      <td>0.396075</td>\n",
       "      <td>False</td>\n",
       "      <td>False</td>\n",
       "      <td>False</td>\n",
       "    </tr>\n",
       "    <tr>\n",
       "      <th>2</th>\n",
       "      <td>-1.664443</td>\n",
       "      <td>-0.583903</td>\n",
       "      <td>-1.238171</td>\n",
       "      <td>-0.032412</td>\n",
       "      <td>-0.868939</td>\n",
       "      <td>-1.481614</td>\n",
       "      <td>False</td>\n",
       "      <td>False</td>\n",
       "      <td>False</td>\n",
       "    </tr>\n",
       "    <tr>\n",
       "      <th>3</th>\n",
       "      <td>-1.637379</td>\n",
       "      <td>-1.334923</td>\n",
       "      <td>-0.099350</td>\n",
       "      <td>-0.032412</td>\n",
       "      <td>-0.868939</td>\n",
       "      <td>0.396075</td>\n",
       "      <td>False</td>\n",
       "      <td>False</td>\n",
       "      <td>False</td>\n",
       "    </tr>\n",
       "    <tr>\n",
       "      <th>4</th>\n",
       "      <td>-1.610315</td>\n",
       "      <td>-0.397082</td>\n",
       "      <td>0.612413</td>\n",
       "      <td>-0.032412</td>\n",
       "      <td>1.082362</td>\n",
       "      <td>0.396075</td>\n",
       "      <td>False</td>\n",
       "      <td>False</td>\n",
       "      <td>False</td>\n",
       "    </tr>\n",
       "    <tr>\n",
       "      <th>...</th>\n",
       "      <td>...</td>\n",
       "      <td>...</td>\n",
       "      <td>...</td>\n",
       "      <td>...</td>\n",
       "      <td>...</td>\n",
       "      <td>...</td>\n",
       "      <td>...</td>\n",
       "      <td>...</td>\n",
       "      <td>...</td>\n",
       "    </tr>\n",
       "    <tr>\n",
       "      <th>123</th>\n",
       "      <td>1.610315</td>\n",
       "      <td>-0.400818</td>\n",
       "      <td>-0.478957</td>\n",
       "      <td>-0.032412</td>\n",
       "      <td>1.082362</td>\n",
       "      <td>0.396075</td>\n",
       "      <td>True</td>\n",
       "      <td>False</td>\n",
       "      <td>False</td>\n",
       "    </tr>\n",
       "    <tr>\n",
       "      <th>124</th>\n",
       "      <td>1.637379</td>\n",
       "      <td>0.652851</td>\n",
       "      <td>0.754765</td>\n",
       "      <td>1.350503</td>\n",
       "      <td>1.082362</td>\n",
       "      <td>0.396075</td>\n",
       "      <td>True</td>\n",
       "      <td>False</td>\n",
       "      <td>False</td>\n",
       "    </tr>\n",
       "    <tr>\n",
       "      <th>125</th>\n",
       "      <td>1.664443</td>\n",
       "      <td>-0.632476</td>\n",
       "      <td>0.327707</td>\n",
       "      <td>-1.415327</td>\n",
       "      <td>-0.868939</td>\n",
       "      <td>-0.542769</td>\n",
       "      <td>False</td>\n",
       "      <td>True</td>\n",
       "      <td>False</td>\n",
       "    </tr>\n",
       "    <tr>\n",
       "      <th>126</th>\n",
       "      <td>1.691507</td>\n",
       "      <td>0.727580</td>\n",
       "      <td>0.090453</td>\n",
       "      <td>-0.032412</td>\n",
       "      <td>1.082362</td>\n",
       "      <td>-1.481614</td>\n",
       "      <td>False</td>\n",
       "      <td>False</td>\n",
       "      <td>True</td>\n",
       "    </tr>\n",
       "    <tr>\n",
       "      <th>127</th>\n",
       "      <td>1.718572</td>\n",
       "      <td>-0.217734</td>\n",
       "      <td>1.181823</td>\n",
       "      <td>-0.032412</td>\n",
       "      <td>1.082362</td>\n",
       "      <td>1.334919</td>\n",
       "      <td>False</td>\n",
       "      <td>True</td>\n",
       "      <td>False</td>\n",
       "    </tr>\n",
       "  </tbody>\n",
       "</table>\n",
       "<p>127 rows × 9 columns</p>\n",
       "</div>"
      ],
      "text/plain": [
       "         Home     Price      SqFt  Bedrooms  Bathrooms    Offers  Brick_Yes  \\\n",
       "0   -1.718572 -0.602585 -1.000916 -1.415327  -0.868939 -0.542769      False   \n",
       "1   -1.691507 -0.606321  0.137904  1.350503  -0.868939  0.396075      False   \n",
       "2   -1.664443 -0.583903 -1.238171 -0.032412  -0.868939 -1.481614      False   \n",
       "3   -1.637379 -1.334923 -0.099350 -0.032412  -0.868939  0.396075      False   \n",
       "4   -1.610315 -0.397082  0.612413 -0.032412   1.082362  0.396075      False   \n",
       "..        ...       ...       ...       ...        ...       ...        ...   \n",
       "123  1.610315 -0.400818 -0.478957 -0.032412   1.082362  0.396075       True   \n",
       "124  1.637379  0.652851  0.754765  1.350503   1.082362  0.396075       True   \n",
       "125  1.664443 -0.632476  0.327707 -1.415327  -0.868939 -0.542769      False   \n",
       "126  1.691507  0.727580  0.090453 -0.032412   1.082362 -1.481614      False   \n",
       "127  1.718572 -0.217734  1.181823 -0.032412   1.082362  1.334919      False   \n",
       "\n",
       "     Neighborhood_North  Neighborhood_West  \n",
       "0                 False              False  \n",
       "1                 False              False  \n",
       "2                 False              False  \n",
       "3                 False              False  \n",
       "4                 False              False  \n",
       "..                  ...                ...  \n",
       "123               False              False  \n",
       "124               False              False  \n",
       "125                True              False  \n",
       "126               False               True  \n",
       "127                True              False  \n",
       "\n",
       "[127 rows x 9 columns]"
      ]
     },
     "execution_count": 135,
     "metadata": {},
     "output_type": "execute_result"
    }
   ],
   "source": [
    "# Z-score method for outlier detection and handling\n",
    "from scipy.stats import zscore\n",
    "\n",
    "# Calculate z-scores for Price and SqFt\n",
    "z_scores_price = zscore(data['Price'])\n",
    "z_scores_sqft = zscore(data['SqFt'])\n",
    "\n",
    "# Threshold for identifying outliers (absolute z-score > 3)\n",
    "outliers_price = np.abs(z_scores_price) > 3\n",
    "outliers_sqft = np.abs(z_scores_sqft) > 3\n",
    "\n",
    "# Remove outliers\n",
    "data = data[~(outliers_price | outliers_sqft)]\n",
    "data\n"
   ]
  },
  {
   "cell_type": "code",
   "execution_count": 136,
   "id": "b198874e",
   "metadata": {},
   "outputs": [
    {
     "data": {
      "image/png": "[encoded data removed]",
      "text/plain": [
       "<Figure size 800x600 with 1 Axes>"
      ]
     },
     "metadata": {},
     "output_type": "display_data"
    },
    {
     "data": {
      "image/png": "[encoded data removed]",
      "text/plain": [
       "<Figure size 800x600 with 1 Axes>"
      ]
     },
     "metadata": {},
     "output_type": "display_data"
    }
   ],
   "source": [
    "# Visualize the data without outliers\n",
    "# Box plot for Price without outliers\n",
    "plt.figure(figsize=(8, 6))\n",
    "sns.boxplot(x=housing_data_no_outliers['Price'])\n",
    "plt.title('Box plot of Price without outliers')\n",
    "plt.xlabel('Price')\n",
    "plt.show()\n",
    "\n",
    "# Box plot for SqFt without outliers\n",
    "plt.figure(figsize=(8, 6))\n",
    "sns.boxplot(x=housing_data_no_outliers['SqFt'])\n",
    "plt.title('Box plot of SqFt without outliers')\n",
    "plt.xlabel('SqFt')\n",
    "plt.show()"
   ]
  },
  {
   "cell_type": "code",
   "execution_count": 139,
   "id": "0f215bd6",
   "metadata": {},
   "outputs": [
    {
     "name": "stdout",
     "output_type": "stream",
     "text": [
      "Mean Absolute Error (MAE): 0.26669693457113774\n",
      "Mean Squared Error (MSE): 0.09694024636697968\n",
      "R-squared (R2): 0.8727135840546811\n"
     ]
    }
   ],
   "source": [
    "# Split the data into features (X) and target variable (y)\n",
    "X = data.drop('Price', axis=1)\n",
    "y = data['Price']\n",
    "\n",
    "# Split the data into training and testing sets (80% train, 20% test)\n",
    "X_train, X_test, y_train, y_test = train_test_split(X, y, test_size=0.2, random_state=42)\n",
    "\n",
    "# Initialize the Linear Regression model\n",
    "model = LinearRegression()\n",
    "\n",
    "# Fit the model to the training data\n",
    "model.fit(X_train, y_train)\n",
    "\n",
    "# Predictions on the test set\n",
    "y_pred = model.predict(X_test)\n",
    "\n",
    "# Evaluate the model\n",
    "mae = mean_absolute_error(y_test, y_pred)\n",
    "mse = mean_squared_error(y_test, y_pred)\n",
    "r2 = r2_score(y_test, y_pred)\n",
    "\n",
    "print(\"Mean Absolute Error (MAE):\", mae)\n",
    "print(\"Mean Squared Error (MSE):\", mse)\n",
    "print(\"R-squared (R2):\", r2)\n"
   ]
  },
  {
   "cell_type": "markdown",
   "id": "110b1a21",
   "metadata": {},
   "source": [
    "Based on the evaluation metrics for the multiple linear regression model:\n",
    "\n",
    "**Mean Absolute Error (MAE):** The MAE value of approximately 0.27 suggests that, on average, the model's predictions are off by around $0.27k (assuming the target variable is in thousands of dollars). This indicates that the model's predictions are relatively close to the actual values.\n",
    "\n",
    "**Mean Squared Error (MSE):** The MSE value of approximately 0.097 indicates the average squared difference between the predicted and actual values. Since MSE is squared, it gives higher weight to large errors. In this case, the MSE suggests that the model's predictions have relatively low variance and the model performs well in terms of accuracy.\n",
    "\n",
    "**R-squared (R2):** The R-squared value of approximately 0.87 indicates that the model explains around 87% of the variance in the target variable. This means that the model fits the data quite well and captures a large portion of the variability in the target variable. A high R-squared value suggests that the model's predictions are highly correlated with the actual values.\n",
    "\n",
    "In conclusion, based on these metrics, we can infer that the multiple linear regression model performs well in predicting the housing prices. The relatively low MAE and MSE values indicate accurate predictions, while the high R-squared value suggests a good fit to the data."
   ]
  }
 ],
 "metadata": {
  "kernelspec": {
   "display_name": "Python 3 (ipykernel)",
   "language": "python",
   "name": "python3"
  },
  "language_info": {
   "codemirror_mode": {
    "name": "ipython",
    "version": 3
   },
   "file_extension": ".py",
   "mimetype": "text/x-python",
   "name": "python",
   "nbconvert_exporter": "python",
   "pygments_lexer": "ipython3",
   "version": "3.10.12"
  },
  "vp": {
   "vp_config_version": "1.0.0",
   "vp_menu_width": 273,
   "vp_note_display": false,
   "vp_note_width": 0,
   "vp_position": {
    "width": 278
   },
   "vp_section_display": true,
   "vp_signature": "VisualPython"
  }
 },
 "nbformat": 4,
 "nbformat_minor": 5
}
